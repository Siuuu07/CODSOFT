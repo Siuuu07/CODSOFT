{
  "cells": [
    {
      "cell_type": "code",
      "execution_count": null,
      "id": "19685eb7",
      "metadata": {
        "execution": {
          "iopub.execute_input": "2024-02-01T13:43:19.048265Z",
          "iopub.status.busy": "2024-02-01T13:43:19.047914Z",
          "iopub.status.idle": "2024-02-01T13:43:20.639193Z",
          "shell.execute_reply": "2024-02-01T13:43:20.638386Z"
        },
        "papermill": {
          "duration": 1.59897,
          "end_time": "2024-02-01T13:43:20.641528",
          "exception": false,
          "start_time": "2024-02-01T13:43:19.042558",
          "status": "completed"
        },
        "tags": [],
        "id": "19685eb7",
        "outputId": "2a8ea9d9-768c-47ee-eca7-16edff6c4562"
      },
      "outputs": [
        {
          "name": "stderr",
          "output_type": "stream",
          "text": [
            "/opt/conda/lib/python3.10/site-packages/scipy/__init__.py:146: UserWarning: A NumPy version >=1.16.5 and <1.23.0 is required for this version of SciPy (detected version 1.24.3\n",
            "  warnings.warn(f\"A NumPy version >={np_minversion} and <{np_maxversion}\"\n"
          ]
        }
      ],
      "source": [
        "import numpy as np\n",
        "import pandas as pd\n",
        "import matplotlib.pyplot as plt\n",
        "from sklearn.tree import DecisionTreeClassifier\n",
        "from sklearn.tree import plot_tree"
      ]
    },
    {
      "cell_type": "code",
      "execution_count": null,
      "id": "6ed9baec",
      "metadata": {
        "execution": {
          "iopub.execute_input": "2024-02-01T13:43:20.650635Z",
          "iopub.status.busy": "2024-02-01T13:43:20.650223Z",
          "iopub.status.idle": "2024-02-01T13:43:20.685911Z",
          "shell.execute_reply": "2024-02-01T13:43:20.685043Z"
        },
        "papermill": {
          "duration": 0.042027,
          "end_time": "2024-02-01T13:43:20.687694",
          "exception": false,
          "start_time": "2024-02-01T13:43:20.645667",
          "status": "completed"
        },
        "tags": [],
        "id": "6ed9baec",
        "outputId": "102c81ac-b92f-4c69-be5f-2aaa4d62ed9a"
      },
      "outputs": [
        {
          "data": {
            "text/html": [
              "<div>\n",
              "<style scoped>\n",
              "    .dataframe tbody tr th:only-of-type {\n",
              "        vertical-align: middle;\n",
              "    }\n",
              "\n",
              "    .dataframe tbody tr th {\n",
              "        vertical-align: top;\n",
              "    }\n",
              "\n",
              "    .dataframe thead th {\n",
              "        text-align: right;\n",
              "    }\n",
              "</style>\n",
              "<table border=\"1\" class=\"dataframe\">\n",
              "  <thead>\n",
              "    <tr style=\"text-align: right;\">\n",
              "      <th></th>\n",
              "      <th>PassengerId</th>\n",
              "      <th>Survived</th>\n",
              "      <th>Pclass</th>\n",
              "      <th>Name</th>\n",
              "      <th>Sex</th>\n",
              "      <th>Age</th>\n",
              "      <th>SibSp</th>\n",
              "      <th>Parch</th>\n",
              "      <th>Ticket</th>\n",
              "      <th>Fare</th>\n",
              "      <th>Cabin</th>\n",
              "      <th>Embarked</th>\n",
              "    </tr>\n",
              "  </thead>\n",
              "  <tbody>\n",
              "    <tr>\n",
              "      <th>0</th>\n",
              "      <td>1</td>\n",
              "      <td>0</td>\n",
              "      <td>3</td>\n",
              "      <td>Braund, Mr. Owen Harris</td>\n",
              "      <td>male</td>\n",
              "      <td>22.0</td>\n",
              "      <td>1</td>\n",
              "      <td>0</td>\n",
              "      <td>A/5 21171</td>\n",
              "      <td>7.2500</td>\n",
              "      <td>NaN</td>\n",
              "      <td>S</td>\n",
              "    </tr>\n",
              "    <tr>\n",
              "      <th>1</th>\n",
              "      <td>2</td>\n",
              "      <td>1</td>\n",
              "      <td>1</td>\n",
              "      <td>Cumings, Mrs. John Bradley (Florence Briggs Th...</td>\n",
              "      <td>female</td>\n",
              "      <td>38.0</td>\n",
              "      <td>1</td>\n",
              "      <td>0</td>\n",
              "      <td>PC 17599</td>\n",
              "      <td>71.2833</td>\n",
              "      <td>C85</td>\n",
              "      <td>C</td>\n",
              "    </tr>\n",
              "    <tr>\n",
              "      <th>2</th>\n",
              "      <td>3</td>\n",
              "      <td>1</td>\n",
              "      <td>3</td>\n",
              "      <td>Heikkinen, Miss. Laina</td>\n",
              "      <td>female</td>\n",
              "      <td>26.0</td>\n",
              "      <td>0</td>\n",
              "      <td>0</td>\n",
              "      <td>STON/O2. 3101282</td>\n",
              "      <td>7.9250</td>\n",
              "      <td>NaN</td>\n",
              "      <td>S</td>\n",
              "    </tr>\n",
              "    <tr>\n",
              "      <th>3</th>\n",
              "      <td>4</td>\n",
              "      <td>1</td>\n",
              "      <td>1</td>\n",
              "      <td>Futrelle, Mrs. Jacques Heath (Lily May Peel)</td>\n",
              "      <td>female</td>\n",
              "      <td>35.0</td>\n",
              "      <td>1</td>\n",
              "      <td>0</td>\n",
              "      <td>113803</td>\n",
              "      <td>53.1000</td>\n",
              "      <td>C123</td>\n",
              "      <td>S</td>\n",
              "    </tr>\n",
              "    <tr>\n",
              "      <th>4</th>\n",
              "      <td>5</td>\n",
              "      <td>0</td>\n",
              "      <td>3</td>\n",
              "      <td>Allen, Mr. William Henry</td>\n",
              "      <td>male</td>\n",
              "      <td>35.0</td>\n",
              "      <td>0</td>\n",
              "      <td>0</td>\n",
              "      <td>373450</td>\n",
              "      <td>8.0500</td>\n",
              "      <td>NaN</td>\n",
              "      <td>S</td>\n",
              "    </tr>\n",
              "  </tbody>\n",
              "</table>\n",
              "</div>"
            ],
            "text/plain": [
              "   PassengerId  Survived  Pclass  \\\n",
              "0            1         0       3   \n",
              "1            2         1       1   \n",
              "2            3         1       3   \n",
              "3            4         1       1   \n",
              "4            5         0       3   \n",
              "\n",
              "                                                Name     Sex   Age  SibSp  \\\n",
              "0                            Braund, Mr. Owen Harris    male  22.0      1   \n",
              "1  Cumings, Mrs. John Bradley (Florence Briggs Th...  female  38.0      1   \n",
              "2                             Heikkinen, Miss. Laina  female  26.0      0   \n",
              "3       Futrelle, Mrs. Jacques Heath (Lily May Peel)  female  35.0      1   \n",
              "4                           Allen, Mr. William Henry    male  35.0      0   \n",
              "\n",
              "   Parch            Ticket     Fare Cabin Embarked  \n",
              "0      0         A/5 21171   7.2500   NaN        S  \n",
              "1      0          PC 17599  71.2833   C85        C  \n",
              "2      0  STON/O2. 3101282   7.9250   NaN        S  \n",
              "3      0            113803  53.1000  C123        S  \n",
              "4      0            373450   8.0500   NaN        S  "
            ]
          },
          "execution_count": 2,
          "metadata": {},
          "output_type": "execute_result"
        }
      ],
      "source": [
        "\n",
        "df=  pd.read_csv('/kaggle/input/titanic-dataset/Titanic-Dataset.csv')\n",
        "df.head(5)"
      ]
    },
    {
      "cell_type": "code",
      "execution_count": null,
      "id": "f1287509",
      "metadata": {
        "execution": {
          "iopub.execute_input": "2024-02-01T13:43:20.696814Z",
          "iopub.status.busy": "2024-02-01T13:43:20.696536Z",
          "iopub.status.idle": "2024-02-01T13:43:20.701303Z",
          "shell.execute_reply": "2024-02-01T13:43:20.700507Z"
        },
        "papermill": {
          "duration": 0.011475,
          "end_time": "2024-02-01T13:43:20.703130",
          "exception": false,
          "start_time": "2024-02-01T13:43:20.691655",
          "status": "completed"
        },
        "tags": [],
        "id": "f1287509"
      },
      "outputs": [],
      "source": [
        "def gini(samples):\n",
        "    sum_samples = sum(samples)\n",
        "    score=0\n",
        "    probas=[]\n",
        "    for sample in samples:\n",
        "        proba= sample/sum_samples\n",
        "        probas.append(proba)\n",
        "    for proba in probas:\n",
        "        score += proba*(1-proba)\n",
        "    return score"
      ]
    },
    {
      "cell_type": "code",
      "execution_count": null,
      "id": "d17c5f9d",
      "metadata": {
        "execution": {
          "iopub.execute_input": "2024-02-01T13:43:20.712007Z",
          "iopub.status.busy": "2024-02-01T13:43:20.711752Z",
          "iopub.status.idle": "2024-02-01T13:43:20.716458Z",
          "shell.execute_reply": "2024-02-01T13:43:20.715613Z"
        },
        "papermill": {
          "duration": 0.011207,
          "end_time": "2024-02-01T13:43:20.718283",
          "exception": false,
          "start_time": "2024-02-01T13:43:20.707076",
          "status": "completed"
        },
        "tags": [],
        "id": "d17c5f9d"
      },
      "outputs": [],
      "source": [
        "def entropy(samples):\n",
        "    sum_samples = sum(samples)\n",
        "    score=0\n",
        "    probas=[]\n",
        "    for sample in samples:\n",
        "        proba= sample/sum_samples\n",
        "        probas.append(proba)\n",
        "    for proba in probas:\n",
        "        score += proba*np.log(proba)\n",
        "    return -1*score"
      ]
    },
    {
      "cell_type": "code",
      "execution_count": null,
      "id": "61d7e45b",
      "metadata": {
        "execution": {
          "iopub.execute_input": "2024-02-01T13:43:20.727877Z",
          "iopub.status.busy": "2024-02-01T13:43:20.727618Z",
          "iopub.status.idle": "2024-02-01T13:43:20.733524Z",
          "shell.execute_reply": "2024-02-01T13:43:20.732525Z"
        },
        "papermill": {
          "duration": 0.013655,
          "end_time": "2024-02-01T13:43:20.735950",
          "exception": false,
          "start_time": "2024-02-01T13:43:20.722295",
          "status": "completed"
        },
        "tags": [],
        "id": "61d7e45b",
        "outputId": "828c46e3-9e43-4201-e2d6-35c2f3459c4e"
      },
      "outputs": [
        {
          "name": "stderr",
          "output_type": "stream",
          "text": [
            "/tmp/ipykernel_27/104340150.py:9: RuntimeWarning: divide by zero encountered in log\n",
            "  score += proba*np.log(proba)\n",
            "/tmp/ipykernel_27/104340150.py:9: RuntimeWarning: invalid value encountered in scalar multiply\n",
            "  score += proba*np.log(proba)\n"
          ]
        },
        {
          "data": {
            "text/plain": [
              "nan"
            ]
          },
          "execution_count": 5,
          "metadata": {},
          "output_type": "execute_result"
        }
      ],
      "source": [
        "samples= [100,25,0]\n",
        "entropy(samples)"
      ]
    },
    {
      "cell_type": "code",
      "execution_count": null,
      "id": "1da23b67",
      "metadata": {
        "execution": {
          "iopub.execute_input": "2024-02-01T13:43:20.745051Z",
          "iopub.status.busy": "2024-02-01T13:43:20.744786Z",
          "iopub.status.idle": "2024-02-01T13:43:20.754629Z",
          "shell.execute_reply": "2024-02-01T13:43:20.753896Z"
        },
        "papermill": {
          "duration": 0.016472,
          "end_time": "2024-02-01T13:43:20.756455",
          "exception": false,
          "start_time": "2024-02-01T13:43:20.739983",
          "status": "completed"
        },
        "tags": [],
        "id": "1da23b67"
      },
      "outputs": [],
      "source": [
        "sex_mapping= {\n",
        "    'female':0,\n",
        "    'male':1\n",
        "}\n",
        "df.Sex= df.Sex.map(sex_mapping)"
      ]
    },
    {
      "cell_type": "code",
      "execution_count": null,
      "id": "03a7eec6",
      "metadata": {
        "execution": {
          "iopub.execute_input": "2024-02-01T13:43:20.765500Z",
          "iopub.status.busy": "2024-02-01T13:43:20.765243Z",
          "iopub.status.idle": "2024-02-01T13:43:20.771475Z",
          "shell.execute_reply": "2024-02-01T13:43:20.770692Z"
        },
        "papermill": {
          "duration": 0.012777,
          "end_time": "2024-02-01T13:43:20.773334",
          "exception": false,
          "start_time": "2024-02-01T13:43:20.760557",
          "status": "completed"
        },
        "tags": [],
        "id": "03a7eec6"
      },
      "outputs": [],
      "source": [
        "df.Pclass.nunique()\n",
        "features= ['Sex','Pclass']\n",
        "model= DecisionTreeClassifier()"
      ]
    },
    {
      "cell_type": "code",
      "execution_count": null,
      "id": "6b399f39",
      "metadata": {
        "execution": {
          "iopub.execute_input": "2024-02-01T13:43:20.782195Z",
          "iopub.status.busy": "2024-02-01T13:43:20.781938Z",
          "iopub.status.idle": "2024-02-01T13:43:20.794609Z",
          "shell.execute_reply": "2024-02-01T13:43:20.793779Z"
        },
        "papermill": {
          "duration": 0.019177,
          "end_time": "2024-02-01T13:43:20.796502",
          "exception": false,
          "start_time": "2024-02-01T13:43:20.777325",
          "status": "completed"
        },
        "tags": [],
        "id": "6b399f39",
        "outputId": "8c8e4d08-3f41-4987-eb96-067954766b08"
      },
      "outputs": [
        {
          "data": {
            "text/html": [
              "<style>#sk-container-id-1 {color: black;background-color: white;}#sk-container-id-1 pre{padding: 0;}#sk-container-id-1 div.sk-toggleable {background-color: white;}#sk-container-id-1 label.sk-toggleable__label {cursor: pointer;display: block;width: 100%;margin-bottom: 0;padding: 0.3em;box-sizing: border-box;text-align: center;}#sk-container-id-1 label.sk-toggleable__label-arrow:before {content: \"▸\";float: left;margin-right: 0.25em;color: #696969;}#sk-container-id-1 label.sk-toggleable__label-arrow:hover:before {color: black;}#sk-container-id-1 div.sk-estimator:hover label.sk-toggleable__label-arrow:before {color: black;}#sk-container-id-1 div.sk-toggleable__content {max-height: 0;max-width: 0;overflow: hidden;text-align: left;background-color: #f0f8ff;}#sk-container-id-1 div.sk-toggleable__content pre {margin: 0.2em;color: black;border-radius: 0.25em;background-color: #f0f8ff;}#sk-container-id-1 input.sk-toggleable__control:checked~div.sk-toggleable__content {max-height: 200px;max-width: 100%;overflow: auto;}#sk-container-id-1 input.sk-toggleable__control:checked~label.sk-toggleable__label-arrow:before {content: \"▾\";}#sk-container-id-1 div.sk-estimator input.sk-toggleable__control:checked~label.sk-toggleable__label {background-color: #d4ebff;}#sk-container-id-1 div.sk-label input.sk-toggleable__control:checked~label.sk-toggleable__label {background-color: #d4ebff;}#sk-container-id-1 input.sk-hidden--visually {border: 0;clip: rect(1px 1px 1px 1px);clip: rect(1px, 1px, 1px, 1px);height: 1px;margin: -1px;overflow: hidden;padding: 0;position: absolute;width: 1px;}#sk-container-id-1 div.sk-estimator {font-family: monospace;background-color: #f0f8ff;border: 1px dotted black;border-radius: 0.25em;box-sizing: border-box;margin-bottom: 0.5em;}#sk-container-id-1 div.sk-estimator:hover {background-color: #d4ebff;}#sk-container-id-1 div.sk-parallel-item::after {content: \"\";width: 100%;border-bottom: 1px solid gray;flex-grow: 1;}#sk-container-id-1 div.sk-label:hover label.sk-toggleable__label {background-color: #d4ebff;}#sk-container-id-1 div.sk-serial::before {content: \"\";position: absolute;border-left: 1px solid gray;box-sizing: border-box;top: 0;bottom: 0;left: 50%;z-index: 0;}#sk-container-id-1 div.sk-serial {display: flex;flex-direction: column;align-items: center;background-color: white;padding-right: 0.2em;padding-left: 0.2em;position: relative;}#sk-container-id-1 div.sk-item {position: relative;z-index: 1;}#sk-container-id-1 div.sk-parallel {display: flex;align-items: stretch;justify-content: center;background-color: white;position: relative;}#sk-container-id-1 div.sk-item::before, #sk-container-id-1 div.sk-parallel-item::before {content: \"\";position: absolute;border-left: 1px solid gray;box-sizing: border-box;top: 0;bottom: 0;left: 50%;z-index: -1;}#sk-container-id-1 div.sk-parallel-item {display: flex;flex-direction: column;z-index: 1;position: relative;background-color: white;}#sk-container-id-1 div.sk-parallel-item:first-child::after {align-self: flex-end;width: 50%;}#sk-container-id-1 div.sk-parallel-item:last-child::after {align-self: flex-start;width: 50%;}#sk-container-id-1 div.sk-parallel-item:only-child::after {width: 0;}#sk-container-id-1 div.sk-dashed-wrapped {border: 1px dashed gray;margin: 0 0.4em 0.5em 0.4em;box-sizing: border-box;padding-bottom: 0.4em;background-color: white;}#sk-container-id-1 div.sk-label label {font-family: monospace;font-weight: bold;display: inline-block;line-height: 1.2em;}#sk-container-id-1 div.sk-label-container {text-align: center;}#sk-container-id-1 div.sk-container {/* jupyter's `normalize.less` sets `[hidden] { display: none; }` but bootstrap.min.css set `[hidden] { display: none !important; }` so we also need the `!important` here to be able to override the default hidden behavior on the sphinx rendered scikit-learn.org. See: https://github.com/scikit-learn/scikit-learn/issues/21755 */display: inline-block !important;position: relative;}#sk-container-id-1 div.sk-text-repr-fallback {display: none;}</style><div id=\"sk-container-id-1\" class=\"sk-top-container\"><div class=\"sk-text-repr-fallback\"><pre>DecisionTreeClassifier()</pre><b>In a Jupyter environment, please rerun this cell to show the HTML representation or trust the notebook. <br />On GitHub, the HTML representation is unable to render, please try loading this page with nbviewer.org.</b></div><div class=\"sk-container\" hidden><div class=\"sk-item\"><div class=\"sk-estimator sk-toggleable\"><input class=\"sk-toggleable__control sk-hidden--visually\" id=\"sk-estimator-id-1\" type=\"checkbox\" checked><label for=\"sk-estimator-id-1\" class=\"sk-toggleable__label sk-toggleable__label-arrow\">DecisionTreeClassifier</label><div class=\"sk-toggleable__content\"><pre>DecisionTreeClassifier()</pre></div></div></div></div></div>"
            ],
            "text/plain": [
              "DecisionTreeClassifier()"
            ]
          },
          "execution_count": 8,
          "metadata": {},
          "output_type": "execute_result"
        }
      ],
      "source": [
        "model.fit(df[features],df.Survived)"
      ]
    },
    {
      "cell_type": "code",
      "execution_count": null,
      "id": "067cbc7c",
      "metadata": {
        "execution": {
          "iopub.execute_input": "2024-02-01T13:43:20.806052Z",
          "iopub.status.busy": "2024-02-01T13:43:20.805792Z",
          "iopub.status.idle": "2024-02-01T13:43:21.350333Z",
          "shell.execute_reply": "2024-02-01T13:43:21.349437Z"
        },
        "papermill": {
          "duration": 0.552149,
          "end_time": "2024-02-01T13:43:21.352889",
          "exception": false,
          "start_time": "2024-02-01T13:43:20.800740",
          "status": "completed"
        },
        "tags": [],
        "id": "067cbc7c",
        "outputId": "6a7f1bbb-2276-433b-d85d-2aba4f17d773"
      },
      "outputs": [
        {
          "data": {
            "image/png": "[encoded data removed]",
            "text/plain": [
              "<Figure size 1000x1000 with 1 Axes>"
            ]
          },
          "metadata": {},
          "output_type": "display_data"
        }
      ],
      "source": [
        "plt.figure(figsize= (10,10))\n",
        "plot_tree(model,feature_names=features)\n",
        "plt.show()"
      ]
    },
    {
      "cell_type": "code",
      "execution_count": null,
      "id": "7bd6c9fb",
      "metadata": {
        "execution": {
          "iopub.execute_input": "2024-01-28T06:59:14.987269Z",
          "iopub.status.busy": "2024-01-28T06:59:14.986857Z",
          "iopub.status.idle": "2024-01-28T06:59:15.467978Z",
          "shell.execute_reply": "2024-01-28T06:59:15.465637Z",
          "shell.execute_reply.started": "2024-01-28T06:59:14.987241Z"
        },
        "papermill": {
          "duration": 0.005211,
          "end_time": "2024-02-01T13:43:21.363649",
          "exception": false,
          "start_time": "2024-02-01T13:43:21.358438",
          "status": "completed"
        },
        "tags": [],
        "id": "7bd6c9fb"
      },
      "outputs": [],
      "source": []
    },
    {
      "cell_type": "code",
      "execution_count": null,
      "id": "4cb9436b",
      "metadata": {
        "papermill": {
          "duration": 0.005071,
          "end_time": "2024-02-01T13:43:21.374015",
          "exception": false,
          "start_time": "2024-02-01T13:43:21.368944",
          "status": "completed"
        },
        "tags": [],
        "id": "4cb9436b"
      },
      "outputs": [],
      "source": []
    }
  ],
  "metadata": {
    "kaggle": {
      "accelerator": "none",
      "dataSources": [
        {
          "datasetId": 1818188,
          "sourceId": 2965537,
          "sourceType": "datasetVersion"
        }
      ],
      "dockerImageVersionId": 30635,
      "isGpuEnabled": false,
      "isInternetEnabled": true,
      "language": "python",
      "sourceType": "notebook"
    },
    "kernelspec": {
      "display_name": "Python 3",
      "language": "python",
      "name": "python3"
    },
    "language_info": {
      "codemirror_mode": {
        "name": "ipython",
        "version": 3
      },
      "file_extension": ".py",
      "mimetype": "text/x-python",
      "name": "python",
      "nbconvert_exporter": "python",
      "pygments_lexer": "ipython3",
      "version": "3.10.12"
    },
    "papermill": {
      "default_parameters": {},
      "duration": 5.957148,
      "end_time": "2024-02-01T13:43:21.797875",
      "environment_variables": {},
      "exception": null,
      "input_path": "__notebook__.ipynb",
      "output_path": "__notebook__.ipynb",
      "parameters": {},
      "start_time": "2024-02-01T13:43:15.840727",
      "version": "2.4.0"
    },
    "colab": {
      "provenance": []
    }
  },
  "nbformat": 4,
  "nbformat_minor": 5
}